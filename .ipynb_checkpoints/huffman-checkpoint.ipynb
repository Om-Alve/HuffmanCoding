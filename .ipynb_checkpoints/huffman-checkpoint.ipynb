{
 "cells": [
  {
   "cell_type": "code",
   "execution_count": 189,
   "id": "dd0a6cf4-22ca-4ec3-8c76-73172044b82e",
   "metadata": {
    "tags": []
   },
   "outputs": [],
   "source": [
    "class Node:\n",
    "    def __init__(self,char,freq):\n",
    "        self.char = char\n",
    "        self.freq = freq\n",
    "        self.left = None\n",
    "        self.right = None\n",
    "    def __repr__(self):\n",
    "        return f\"Node({self.char},{self.freq})\"\n",
    "    def __lt__(self,other):\n",
    "        return self.freq < other.freq"
   ]
  },
  {
   "cell_type": "code",
   "execution_count": 190,
   "id": "5982a8ba-7c22-47d5-8e1d-0416e7e95800",
   "metadata": {
    "tags": []
   },
   "outputs": [
    {
     "name": "stdout",
     "output_type": "stream",
     "text": [
      "BCCABBDDAECCBBAEDDCC\n"
     ]
    },
    {
     "data": {
      "text/plain": [
       "{'B': 5, 'C': 6, 'A': 3, 'D': 4, 'E': 2}"
      ]
     },
     "execution_count": 190,
     "metadata": {},
     "output_type": "execute_result"
    }
   ],
   "source": [
    "freqdict = {}\n",
    "\n",
    "with open('sample.txt','r') as file:\n",
    "    text = file.read()\n",
    "  \n",
    "print(text)\n",
    "\n",
    "for char in text:\n",
    "    if char not in freqdict.keys():\n",
    "        freqdict[char] = 0\n",
    "    freqdict[char]+=1\n",
    "freqdict"
   ]
  },
  {
   "cell_type": "code",
   "execution_count": 191,
   "id": "3aed1722-7e3c-453c-a96c-3cf851a291b1",
   "metadata": {
    "tags": []
   },
   "outputs": [],
   "source": [
    "h = []\n",
    "for char,freq in freqdict.items():\n",
    "    heappush(h,(freq,Node(char,freq)))"
   ]
  },
  {
   "cell_type": "code",
   "execution_count": 192,
   "id": "815314ad-b7fb-4655-9068-52311f1c91a7",
   "metadata": {
    "tags": []
   },
   "outputs": [
    {
     "data": {
      "text/plain": [
       "[(2, Node(E,2)),\n",
       " (3, Node(A,3)),\n",
       " (5, Node(B,5)),\n",
       " (6, Node(C,6)),\n",
       " (4, Node(D,4))]"
      ]
     },
     "execution_count": 192,
     "metadata": {},
     "output_type": "execute_result"
    }
   ],
   "source": [
    "h"
   ]
  },
  {
   "cell_type": "code",
   "execution_count": 193,
   "id": "8bf1a15f-72ca-4384-9616-8c56ae3f7b86",
   "metadata": {
    "tags": []
   },
   "outputs": [
    {
     "name": "stdout",
     "output_type": "stream",
     "text": [
      "5\n",
      "9\n",
      "11\n",
      "20\n"
     ]
    }
   ],
   "source": [
    "while(len(h)>1):\n",
    "    node1 = heappop(h)[1]\n",
    "    node2 = heappop(h)[1]\n",
    "    sumval = node1.freq  + node2.freq\n",
    "    print(sumval)\n",
    "    treenode = Node(None,sumval)\n",
    "    treenode.left = node1\n",
    "    treenode.right = node2\n",
    "    heappush(h,(sumval,treenode))\n",
    "    "
   ]
  },
  {
   "cell_type": "code",
   "execution_count": 194,
   "id": "fe783aeb-3167-4cd4-b950-f26bbaa80d79",
   "metadata": {
    "tags": []
   },
   "outputs": [],
   "source": [
    "top = h[0][1]\n",
    "codebook = {}\n",
    "def traversetree(tree,code):\n",
    "    if not tree:\n",
    "        return\n",
    "    if tree.char:\n",
    "        codebook[tree.char] = code\n",
    "    else:\n",
    "        traversetree(tree.left,code+'0')\n",
    "        traversetree(tree.right,code+'1')\n",
    "\n",
    "traversetree(top,'')"
   ]
  },
  {
   "cell_type": "code",
   "execution_count": 195,
   "id": "9d95612c-1710-4bbe-8687-962ebf46e897",
   "metadata": {
    "tags": []
   },
   "outputs": [
    {
     "data": {
      "text/plain": [
       "{'D': '00', 'B': '01', 'E': '100', 'A': '101', 'C': '11'}"
      ]
     },
     "execution_count": 195,
     "metadata": {},
     "output_type": "execute_result"
    }
   ],
   "source": [
    "codebook"
   ]
  }
 ],
 "metadata": {
  "kernelspec": {
   "display_name": "Python 3 (ipykernel)",
   "language": "python",
   "name": "python3"
  },
  "language_info": {
   "codemirror_mode": {
    "name": "ipython",
    "version": 3
   },
   "file_extension": ".py",
   "mimetype": "text/x-python",
   "name": "python",
   "nbconvert_exporter": "python",
   "pygments_lexer": "ipython3",
   "version": "3.11.3"
  }
 },
 "nbformat": 4,
 "nbformat_minor": 5
}
