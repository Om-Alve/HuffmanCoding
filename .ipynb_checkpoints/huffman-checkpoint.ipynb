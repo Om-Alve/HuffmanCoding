{
 "cells": [
  {
   "cell_type": "code",
   "execution_count": 106,
   "id": "a61119f8-7dbc-43ce-a020-e37cfa8f12ef",
   "metadata": {
    "tags": []
   },
   "outputs": [],
   "source": [
    "from heapq import heappush,heappop"
   ]
  },
  {
   "cell_type": "code",
   "execution_count": 107,
   "id": "dd0a6cf4-22ca-4ec3-8c76-73172044b82e",
   "metadata": {
    "tags": []
   },
   "outputs": [],
   "source": [
    "class Node:\n",
    "    def __init__(self,char,freq):\n",
    "        self.char = char\n",
    "        self.freq = freq\n",
    "        self.left = None\n",
    "        self.right = None\n",
    "    def __repr__(self):\n",
    "        return f\"Node({self.char},{self.freq})\"\n",
    "    def __lt__(self,other):\n",
    "        return self.freq < other.freq"
   ]
  },
  {
   "cell_type": "code",
   "execution_count": 108,
   "id": "5982a8ba-7c22-47d5-8e1d-0416e7e95800",
   "metadata": {
    "tags": []
   },
   "outputs": [
    {
     "name": "stdout",
     "output_type": "stream",
     "text": [
      "Om Alve\n"
     ]
    },
    {
     "data": {
      "text/plain": [
       "{'O': 1, 'm': 1, ' ': 1, 'A': 1, 'l': 1, 'v': 1, 'e': 1}"
      ]
     },
     "execution_count": 108,
     "metadata": {},
     "output_type": "execute_result"
    }
   ],
   "source": [
    "freqdict = {}\n",
    "\n",
    "with open('sample.txt','r') as file:\n",
    "    text = file.read()\n",
    "  \n",
    "print(text)\n",
    "\n",
    "for char in text:\n",
    "    if char not in freqdict.keys():\n",
    "        freqdict[char] = 0\n",
    "    freqdict[char]+=1\n",
    "freqdict"
   ]
  },
  {
   "cell_type": "code",
   "execution_count": 109,
   "id": "3aed1722-7e3c-453c-a96c-3cf851a291b1",
   "metadata": {
    "tags": []
   },
   "outputs": [],
   "source": [
    "h = []\n",
    "for char,freq in freqdict.items():\n",
    "    heappush(h,(freq,Node(char,freq)))"
   ]
  },
  {
   "cell_type": "code",
   "execution_count": 110,
   "id": "815314ad-b7fb-4655-9068-52311f1c91a7",
   "metadata": {
    "tags": []
   },
   "outputs": [
    {
     "data": {
      "text/plain": [
       "[(1, Node(O,1)),\n",
       " (1, Node(m,1)),\n",
       " (1, Node( ,1)),\n",
       " (1, Node(A,1)),\n",
       " (1, Node(l,1)),\n",
       " (1, Node(v,1)),\n",
       " (1, Node(e,1))]"
      ]
     },
     "execution_count": 110,
     "metadata": {},
     "output_type": "execute_result"
    }
   ],
   "source": [
    "h"
   ]
  },
  {
   "cell_type": "code",
   "execution_count": 111,
   "id": "8bf1a15f-72ca-4384-9616-8c56ae3f7b86",
   "metadata": {
    "tags": []
   },
   "outputs": [
    {
     "name": "stdout",
     "output_type": "stream",
     "text": [
      "2\n",
      "2\n",
      "2\n",
      "3\n",
      "4\n",
      "7\n"
     ]
    }
   ],
   "source": [
    "while(len(h)>1):\n",
    "    node1 = heappop(h)[1]\n",
    "    node2 = heappop(h)[1]\n",
    "    sumval = node1.freq  + node2.freq\n",
    "    print(sumval)\n",
    "    treenode = Node(None,sumval)\n",
    "    treenode.left = node1\n",
    "    treenode.right = node2\n",
    "    heappush(h,(sumval,treenode))\n",
    "    "
   ]
  },
  {
   "cell_type": "code",
   "execution_count": 112,
   "id": "fe783aeb-3167-4cd4-b950-f26bbaa80d79",
   "metadata": {
    "tags": []
   },
   "outputs": [],
   "source": [
    "top = h[0][1]\n",
    "codebook = {}\n",
    "def traversetree(tree,code):\n",
    "    if not tree:\n",
    "        return\n",
    "    if tree.char:\n",
    "        codebook[tree.char] = code\n",
    "    else:\n",
    "        traversetree(tree.left,code+'0')\n",
    "        traversetree(tree.right,code+'1')\n",
    "\n",
    "traversetree(top,'')"
   ]
  },
  {
   "cell_type": "code",
   "execution_count": 113,
   "id": "9d95612c-1710-4bbe-8687-962ebf46e897",
   "metadata": {
    "tags": []
   },
   "outputs": [
    {
     "data": {
      "text/plain": [
       "{'l': '00',\n",
       " 'O': '010',\n",
       " ' ': '011',\n",
       " 'v': '100',\n",
       " 'e': '101',\n",
       " 'm': '110',\n",
       " 'A': '111'}"
      ]
     },
     "execution_count": 113,
     "metadata": {},
     "output_type": "execute_result"
    }
   ],
   "source": [
    "codebook"
   ]
  },
  {
   "cell_type": "code",
   "execution_count": 114,
   "id": "b4d815df-da14-42ad-ab2b-6ab466a7a6c2",
   "metadata": {
    "tags": []
   },
   "outputs": [
    {
     "name": "stdout",
     "output_type": "stream",
     "text": [
      "010110011111001001010000\n"
     ]
    }
   ],
   "source": [
    "encoded = \"\"\n",
    "for char in text:\n",
    "    encoded+=codebook[char]\n",
    "padding = 8 - (len(encoded) % 8)\n",
    "encoded += '0' * padding\n",
    "print(encoded)\n",
    "# encoded = int(encoded,2)\n",
    "# print(encoded)"
   ]
  },
  {
   "cell_type": "code",
   "execution_count": 115,
   "id": "a9580c6a-b34a-4c36-b656-c5d4b7c82225",
   "metadata": {
    "tags": []
   },
   "outputs": [
    {
     "ename": "AttributeError",
     "evalue": "'str' object has no attribute 'to_bytes'",
     "output_type": "error",
     "traceback": [
      "\u001b[1;31m---------------------------------------------------------------------------\u001b[0m",
      "\u001b[1;31mAttributeError\u001b[0m                            Traceback (most recent call last)",
      "Cell \u001b[1;32mIn[115], line 1\u001b[0m\n\u001b[1;32m----> 1\u001b[0m byteform \u001b[38;5;241m=\u001b[39m encoded\u001b[38;5;241m.\u001b[39mto_bytes((encoded\u001b[38;5;241m.\u001b[39mbit_length() \u001b[38;5;241m+\u001b[39m \u001b[38;5;241m7\u001b[39m) \u001b[38;5;241m/\u001b[39m\u001b[38;5;241m/\u001b[39m \u001b[38;5;241m8\u001b[39m, byteorder\u001b[38;5;241m=\u001b[39m\u001b[38;5;124m'\u001b[39m\u001b[38;5;124mbig\u001b[39m\u001b[38;5;124m'\u001b[39m)\n\u001b[0;32m      2\u001b[0m byteform\n",
      "\u001b[1;31mAttributeError\u001b[0m: 'str' object has no attribute 'to_bytes'"
     ]
    }
   ],
   "source": [
    "byteform = encoded.to_bytes((encoded.bit_length() + 7) // 8, byteorder='big')\n",
    "byteform"
   ]
  },
  {
   "cell_type": "code",
   "execution_count": 116,
   "id": "14374635-83a5-4316-8744-d57c2ae362a3",
   "metadata": {
    "tags": []
   },
   "outputs": [],
   "source": [
    "with open('sample.bin','wb') as file:\n",
    "    file.write(byteform)"
   ]
  },
  {
   "cell_type": "code",
   "execution_count": 117,
   "id": "44288e13-e797-48c1-a357-263556591105",
   "metadata": {
    "tags": []
   },
   "outputs": [
    {
     "data": {
      "text/plain": [
       "b'~\\xa8Y\\xeb`x'"
      ]
     },
     "execution_count": 117,
     "metadata": {},
     "output_type": "execute_result"
    }
   ],
   "source": [
    "with open('sample.bin','rb') as file:\n",
    "    s = file.read()\n",
    "s"
   ]
  },
  {
   "cell_type": "code",
   "execution_count": 118,
   "id": "66752fb5-b755-4661-b0ce-4f94746efc07",
   "metadata": {
    "tags": []
   },
   "outputs": [],
   "source": [
    "# binary = ''.join(format(byte,'') for byte in s)\n",
    "# binary\n",
    "\n",
    "# binary = bin(int.from_bytes(s, byteorder='big'))[2:]\n",
    "binary = ''.join(format(byte, '08b') for byte in s)"
   ]
  },
  {
   "cell_type": "code",
   "execution_count": 119,
   "id": "9ff3f951-8331-4558-99ac-42cde24fc4bb",
   "metadata": {
    "tags": []
   },
   "outputs": [],
   "source": [
    "decoded = ''\n",
    "node = top\n",
    "for bit in encoded:\n",
    "    if node.char:\n",
    "        decoded+=node.char\n",
    "        node = top\n",
    "    else:\n",
    "        if bit == '1':\n",
    "            node = node.right\n",
    "        else:\n",
    "            node = node.left\n"
   ]
  },
  {
   "cell_type": "code",
   "execution_count": 120,
   "id": "e9eea277-911f-442e-bb2b-3b845adc8225",
   "metadata": {
    "tags": []
   },
   "outputs": [
    {
     "data": {
      "text/plain": [
       "'OvAllO'"
      ]
     },
     "execution_count": 120,
     "metadata": {},
     "output_type": "execute_result"
    }
   ],
   "source": [
    "decoded"
   ]
  }
 ],
 "metadata": {
  "kernelspec": {
   "display_name": "Python 3 (ipykernel)",
   "language": "python",
   "name": "python3"
  },
  "language_info": {
   "codemirror_mode": {
    "name": "ipython",
    "version": 3
   },
   "file_extension": ".py",
   "mimetype": "text/x-python",
   "name": "python",
   "nbconvert_exporter": "python",
   "pygments_lexer": "ipython3",
   "version": "3.11.3"
  }
 },
 "nbformat": 4,
 "nbformat_minor": 5
}
