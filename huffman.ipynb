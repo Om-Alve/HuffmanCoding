{
 "cells": [
  {
   "cell_type": "code",
   "execution_count": 151,
   "id": "a61119f8-7dbc-43ce-a020-e37cfa8f12ef",
   "metadata": {
    "tags": []
   },
   "outputs": [],
   "source": [
    "from heapq import heappush,heappop\n",
    "import pickle"
   ]
  },
  {
   "cell_type": "code",
   "execution_count": 48,
   "id": "dd0a6cf4-22ca-4ec3-8c76-73172044b82e",
   "metadata": {
    "tags": []
   },
   "outputs": [],
   "source": [
    "class Node:\n",
    "    def __init__(self,char,freq):\n",
    "        self.char = char\n",
    "        self.freq = freq\n",
    "        self.left = None\n",
    "        self.right = None\n",
    "    def __repr__(self):\n",
    "        return f\"Node({self.char},{self.freq})\"\n",
    "    def __lt__(self,other):\n",
    "        return self.freq < other.freq"
   ]
  },
  {
   "cell_type": "code",
   "execution_count": 161,
   "id": "cf0ffed0-df18-44fb-b9ad-f5b30d08469f",
   "metadata": {
    "tags": []
   },
   "outputs": [],
   "source": [
    "def encode(inputfile,encodedfile):\n",
    "    freqdict = {}\n",
    "\n",
    "    with open(inputfile,'r') as file:\n",
    "        text = file.read()\n",
    "\n",
    "    for char in text:\n",
    "        if char not in freqdict.keys():\n",
    "            freqdict[char] = 0\n",
    "        freqdict[char]+=1\n",
    "        \n",
    "    h = []\n",
    "    for char,freq in freqdict.items():\n",
    "        heappush(h,(freq,Node(char,freq)))\n",
    "        \n",
    "    while(len(h)>1):\n",
    "        node1 = heappop(h)[1]\n",
    "        node2 = heappop(h)[1]\n",
    "        sumval = node1.freq  + node2.freq\n",
    "        treenode = Node(None,sumval)\n",
    "        treenode.left = node1\n",
    "        treenode.right = node2\n",
    "        heappush(h,(sumval,treenode))\n",
    "    \n",
    "    top = h[0][1]\n",
    "    codebook = {}\n",
    "    def traversetree(tree,code):\n",
    "        if not tree:\n",
    "            return\n",
    "        if tree.char:\n",
    "            codebook[tree.char] = code\n",
    "        else:\n",
    "            traversetree(tree.left,code+'0')\n",
    "            traversetree(tree.right,code+'1')\n",
    "\n",
    "    traversetree(top,'')\n",
    "    \n",
    "    encoded = \"\"\n",
    "    for char in text:\n",
    "        encoded+=codebook[char]\n",
    "        \n",
    "    with open(encodedfile, 'wb') as file:\n",
    "        padding = 8 - (len(encoded)%8)\n",
    "        encoded+='0'*padding\n",
    "        bytearr = bytearray()\n",
    "        for i in range(0,len(encoded),8):\n",
    "            bytearr.append(int(encoded[i:i+8],2))\n",
    "        file.write(bytes([padding]))\n",
    "        file.write(bytearr)\n",
    "    with open('huffmantree.pkl','wb') as file:\n",
    "        pickle.dump(top,file)"
   ]
  },
  {
   "cell_type": "code",
   "execution_count": 165,
   "id": "a81c0406-52c4-469c-9c9f-dd990f9e8505",
   "metadata": {
    "tags": []
   },
   "outputs": [],
   "source": [
    "def decode(inpath,outpath):\n",
    "    with open('huffmantree.pkl','rb') as file:\n",
    "        top = pickle.load(file)\n",
    "    with open(inpath,'rb') as f:\n",
    "        padding = ord(f.read(1))\n",
    "        encoded = ''.join(format(byte, '08b') for byte in f.read())\n",
    "    encoded = encoded[:-padding+1]\n",
    "    node = top\n",
    "    decoded = ''\n",
    "    for bit in encoded:\n",
    "        if node.char:\n",
    "            decoded += node.char\n",
    "            node = top\n",
    "        if bit == '1' :\n",
    "            node = node.right\n",
    "        else:\n",
    "            node = node.left\n",
    "\n",
    "    with open(outpath,'w') as file:\n",
    "        file.write(decoded)"
   ]
  },
  {
   "cell_type": "code",
   "execution_count": 168,
   "id": "076ae02c-1ab1-4c9e-9bff-41c6cd548862",
   "metadata": {
    "tags": []
   },
   "outputs": [],
   "source": [
    "encode('sherlock.txt','encoded.huff')"
   ]
  },
  {
   "cell_type": "code",
   "execution_count": 169,
   "id": "1127b52f-2012-4c70-827e-9e9d1780f63f",
   "metadata": {
    "tags": []
   },
   "outputs": [],
   "source": [
    "decode('encoded.huff','decoded.txt')"
   ]
  }
 ],
 "metadata": {
  "kernelspec": {
   "display_name": "Python 3 (ipykernel)",
   "language": "python",
   "name": "python3"
  },
  "language_info": {
   "codemirror_mode": {
    "name": "ipython",
    "version": 3
   },
   "file_extension": ".py",
   "mimetype": "text/x-python",
   "name": "python",
   "nbconvert_exporter": "python",
   "pygments_lexer": "ipython3",
   "version": "3.11.3"
  }
 },
 "nbformat": 4,
 "nbformat_minor": 5
}
